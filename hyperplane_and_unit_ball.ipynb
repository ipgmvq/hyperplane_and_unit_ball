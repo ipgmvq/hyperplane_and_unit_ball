{
 "cells": [
  {
   "cell_type": "code",
   "execution_count": 1,
   "id": "5af33efc",
   "metadata": {},
   "outputs": [],
   "source": [
    "import numpy as np\n",
    "rng = np.random.default_rng()"
   ]
  },
  {
   "cell_type": "code",
   "execution_count": 2,
   "id": "fae05df6",
   "metadata": {},
   "outputs": [],
   "source": [
    "sample_size = 1000000"
   ]
  },
  {
   "cell_type": "code",
   "execution_count": 3,
   "id": "080940e6",
   "metadata": {},
   "outputs": [
    {
     "name": "stdout",
     "output_type": "stream",
     "text": [
      "# of dimentions: 2,\tsample size: 707484,\tproportion: 50.123%\n",
      "# of dimentions: 2,\tsample size: 707484,\tproportion: 50.123%, more randomness\n",
      "# of dimentions: 3,\tsample size: 452313,\tproportion: 33.422%\n",
      "# of dimentions: 3,\tsample size: 452313,\tproportion: 33.320%, more randomness\n",
      "# of dimentions: 4,\tsample size: 262322,\tproportion: 25.194%\n",
      "# of dimentions: 4,\tsample size: 262322,\tproportion: 25.013%, more randomness\n",
      "# of dimentions: 5,\tsample size: 137640,\tproportion: 19.959%\n",
      "# of dimentions: 5,\tsample size: 137640,\tproportion: 20.009%, more randomness\n",
      "# of dimentions: 6,\tsample size: 67088,\tproportion: 16.897%\n",
      "# of dimentions: 6,\tsample size: 67088,\tproportion: 16.660%, more randomness\n",
      "# of dimentions: 7,\tsample size: 30389,\tproportion: 14.291%\n",
      "# of dimentions: 7,\tsample size: 30389,\tproportion: 14.005%, more randomness\n",
      "# of dimentions: 8,\tsample size: 13019,\tproportion: 11.929%\n",
      "# of dimentions: 8,\tsample size: 13019,\tproportion: 12.766%, more randomness\n",
      "# of dimentions: 9,\tsample size: 5319,\tproportion: 11.393%\n",
      "# of dimentions: 9,\tsample size: 5319,\tproportion: 10.585%, more randomness\n",
      "# of dimentions: 10,\tsample size: 2071,\tproportion: 10.719%\n",
      "# of dimentions: 10,\tsample size: 2071,\tproportion: 9.754%, more randomness\n",
      "# of dimentions: 11,\tsample size: 711,\tproportion: 8.298%\n",
      "# of dimentions: 11,\tsample size: 711,\tproportion: 8.720%, more randomness\n",
      "# of dimentions: 12,\tsample size: 264,\tproportion: 8.333%\n",
      "# of dimentions: 12,\tsample size: 264,\tproportion: 9.848%, more randomness\n",
      "# of dimentions: 13,\tsample size: 71,\tproportion: 9.859%\n",
      "# of dimentions: 13,\tsample size: 71,\tproportion: 8.451%, more randomness\n",
      "# of dimentions: 14,\tsample size: 23,\tproportion: 8.696%\n",
      "# of dimentions: 14,\tsample size: 23,\tproportion: 4.348%, more randomness\n"
     ]
    }
   ],
   "source": [
    "for n_dimentions in range(2,15):\n",
    "    sample = rng.uniform(size=(sample_size,n_dimentions-1)) * 2.0 - 1.0\n",
    "    additional_dim = (-sample.sum(axis=1)).reshape((sample_size, 1))\n",
    "    sample = np.hstack((sample, additional_dim))\n",
    "    фильтр_L2 = np.power(sample, 2).sum(axis=1) <= 1.0\n",
    "    sample = sample[фильтр_L2,:]\n",
    "    random_dimentions_roll = rng.integers(n_dimentions, size=(sample_size,))\n",
    "    norm_L1 = sample.cumsum(axis=1)[:,:-1]\n",
    "    condition = np.all(norm_L1 > 0.0, axis=1)\n",
    "    print(\"# of dimentions: %i,\\tsample size: %i,\\tproportion: %.3f%%\" % (n_dimentions, sample.shape[0], 100.0 * condition.mean()))\n",
    "    sample = np.roll(sample, random_dimentions_roll, axis=1)\n",
    "    norm_L1 = sample.cumsum(axis=1)[:,:-1]\n",
    "    condition = np.all(norm_L1 > 0.0, axis=1)\n",
    "    print(\"# of dimentions: %i,\\tsample size: %i,\\tproportion: %.3f%%, more randomness\" % (n_dimentions, sample.shape[0], 100.0 * condition.mean()))"
   ]
  }
 ],
 "metadata": {
  "kernelspec": {
   "display_name": "Python 3",
   "language": "python",
   "name": "python3"
  },
  "language_info": {
   "codemirror_mode": {
    "name": "ipython",
    "version": 3
   },
   "file_extension": ".py",
   "mimetype": "text/x-python",
   "name": "python",
   "nbconvert_exporter": "python",
   "pygments_lexer": "ipython3",
   "version": "3.8.8"
  }
 },
 "nbformat": 4,
 "nbformat_minor": 5
}
